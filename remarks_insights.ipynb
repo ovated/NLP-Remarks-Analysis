{
 "cells": [
  {
   "cell_type": "markdown",
   "metadata": {},
   "source": [
    "# NLP: Remarks Analysis"
   ]
  },
  {
   "cell_type": "code",
   "execution_count": 1,
   "metadata": {},
   "outputs": [],
   "source": [
    "# Relevant libraries\n",
    "\n",
    "import pandas as pd\n",
    "import numpy as np\n",
    "import nltk\n",
    "# !pip install langdetect\n",
    "from langdetect import detect, detect_langs\n",
    "from langdetect import DetectorFactory\n",
    "DetectorFactory.seed = 0\n",
    "import matplotlib.pyplot as plt\n",
    "import googletrans\n",
    "from googletrans import Translator, constants\n",
    "from pprint import pprint\n",
    "\n",
    "from deep_translator import GoogleTranslator"
   ]
  },
  {
   "cell_type": "code",
   "execution_count": 2,
   "metadata": {},
   "outputs": [],
   "source": [
    "# reading data from file\n",
    "data = pd.read_csv(\"data/remark_data.csv\")"
   ]
  },
  {
   "cell_type": "code",
   "execution_count": 3,
   "metadata": {},
   "outputs": [
    {
     "data": {
      "text/html": [
       "<div>\n",
       "<style scoped>\n",
       "    .dataframe tbody tr th:only-of-type {\n",
       "        vertical-align: middle;\n",
       "    }\n",
       "\n",
       "    .dataframe tbody tr th {\n",
       "        vertical-align: top;\n",
       "    }\n",
       "\n",
       "    .dataframe thead th {\n",
       "        text-align: right;\n",
       "    }\n",
       "</style>\n",
       "<table border=\"1\" class=\"dataframe\">\n",
       "  <thead>\n",
       "    <tr style=\"text-align: right;\">\n",
       "      <th></th>\n",
       "      <th>remark</th>\n",
       "    </tr>\n",
       "  </thead>\n",
       "  <tbody>\n",
       "    <tr>\n",
       "      <th>0</th>\n",
       "      <td>byr arisan januari</td>\n",
       "    </tr>\n",
       "    <tr>\n",
       "      <th>1</th>\n",
       "      <td>arisan barang</td>\n",
       "    </tr>\n",
       "    <tr>\n",
       "      <th>2</th>\n",
       "      <td>etoll cfhro</td>\n",
       "    </tr>\n",
       "    <tr>\n",
       "      <th>3</th>\n",
       "      <td>belanja muse 12mar</td>\n",
       "    </tr>\n",
       "    <tr>\n",
       "      <th>4</th>\n",
       "      <td>ruko 2</td>\n",
       "    </tr>\n",
       "  </tbody>\n",
       "</table>\n",
       "</div>"
      ],
      "text/plain": [
       "                 remark\n",
       "0   byr arisan januari \n",
       "1        arisan barang \n",
       "2          etoll cfhro \n",
       "3   belanja muse 12mar \n",
       "4               ruko 2 "
      ]
     },
     "execution_count": 3,
     "metadata": {},
     "output_type": "execute_result"
    }
   ],
   "source": [
    "data.head()"
   ]
  },
  {
   "cell_type": "code",
   "execution_count": 4,
   "metadata": {},
   "outputs": [
    {
     "data": {
      "text/plain": [
       "(9746, 1)"
      ]
     },
     "execution_count": 4,
     "metadata": {},
     "output_type": "execute_result"
    }
   ],
   "source": [
    "data.shape"
   ]
  },
  {
   "cell_type": "code",
   "execution_count": 5,
   "metadata": {},
   "outputs": [],
   "source": [
    "# language codes csv file\n",
    "lang_codes = pd.read_csv(\"data/language_codes.csv\")"
   ]
  },
  {
   "cell_type": "code",
   "execution_count": 6,
   "metadata": {},
   "outputs": [
    {
     "data": {
      "text/html": [
       "<div>\n",
       "<style scoped>\n",
       "    .dataframe tbody tr th:only-of-type {\n",
       "        vertical-align: middle;\n",
       "    }\n",
       "\n",
       "    .dataframe tbody tr th {\n",
       "        vertical-align: top;\n",
       "    }\n",
       "\n",
       "    .dataframe thead th {\n",
       "        text-align: right;\n",
       "    }\n",
       "</style>\n",
       "<table border=\"1\" class=\"dataframe\">\n",
       "  <thead>\n",
       "    <tr style=\"text-align: right;\">\n",
       "      <th></th>\n",
       "      <th>ISO language name</th>\n",
       "      <th>639-1 codes</th>\n",
       "    </tr>\n",
       "  </thead>\n",
       "  <tbody>\n",
       "    <tr>\n",
       "      <th>0</th>\n",
       "      <td>Abkhazian</td>\n",
       "      <td>ab</td>\n",
       "    </tr>\n",
       "    <tr>\n",
       "      <th>1</th>\n",
       "      <td>Afar</td>\n",
       "      <td>aa</td>\n",
       "    </tr>\n",
       "    <tr>\n",
       "      <th>2</th>\n",
       "      <td>Afrikaans</td>\n",
       "      <td>af</td>\n",
       "    </tr>\n",
       "    <tr>\n",
       "      <th>3</th>\n",
       "      <td>Akan</td>\n",
       "      <td>ak</td>\n",
       "    </tr>\n",
       "    <tr>\n",
       "      <th>4</th>\n",
       "      <td>Albanian</td>\n",
       "      <td>sq</td>\n",
       "    </tr>\n",
       "  </tbody>\n",
       "</table>\n",
       "</div>"
      ],
      "text/plain": [
       "  ISO language name 639-1 codes\n",
       "0         Abkhazian          ab\n",
       "1              Afar          aa\n",
       "2         Afrikaans          af\n",
       "3              Akan          ak\n",
       "4          Albanian          sq"
      ]
     },
     "execution_count": 6,
     "metadata": {},
     "output_type": "execute_result"
    }
   ],
   "source": [
    "lang_codes.head()"
   ]
  },
  {
   "cell_type": "code",
   "execution_count": 7,
   "metadata": {},
   "outputs": [],
   "source": [
    "def language_detection(text, method = \"single\"):\n",
    "    \n",
    "    \"\"\"\n",
    "    @desc: \n",
    "    - detects the language of a text\n",
    "    @params:\n",
    "    - text: the text which language needs to be detected\n",
    "    - method: detection method: \n",
    "      single: if the detection is based on the first option (detect)\n",
    "    @return:\n",
    "    - the langue/list of languages\n",
    "    \"\"\"\n",
    "\n",
    "    if(method.lower() != \"single\"):\n",
    "        result = detect_langs(text)\n",
    "\n",
    "    else:\n",
    "        result = detect(text)\n",
    "\n",
    "    return result"
   ]
  },
  {
   "cell_type": "code",
   "execution_count": 8,
   "metadata": {},
   "outputs": [],
   "source": [
    "translation_list = []\n",
    "language = []\n",
    "\n",
    "# Get the Language using landetect\n",
    "for item in data[\"remark\"]:\n",
    "    text = item\n",
    "    result = language_detection(text, \"all languages\")\n",
    "    \n",
    "    no_of_lang_detect = len(result)\n",
    "\n",
    "    pred_lang = str(result[0])[0:2]\n",
    "    score = str(result[0])[3:7]\n",
    "    score = float(score)\n",
    "\n",
    "\n",
    "    lang = \"\"\n",
    "    \n",
    "    # to get the highest language accuracy score prediction\n",
    "    if no_of_lang_detect > 1:\n",
    "        score_list = []\n",
    "        for item in range(0, no_of_lang_detect):\n",
    "            pred_lang = str(result[item])[0:2]\n",
    "            score = str(result[item])[3:7]\n",
    "            score = float(score)\n",
    "\n",
    "            # score_list[pred_lang]=score\n",
    "            score_list.append([pred_lang, score])\n",
    "\n",
    "        highest_score = 0\n",
    "        for item in score_list:\n",
    "\n",
    "            score = item[1]\n",
    "\n",
    "            if highest_score < score:\n",
    "                highest_score = score\n",
    "                lang = item[0]\n",
    "\n",
    "    else:\n",
    "        # store the ISO 639-1 language code\n",
    "        lang = str(result)[1:3]\n",
    "    \n",
    "    # Get the index of the language code in the language_codes dataset\n",
    "    lang_index = lang_codes.index[lang_codes[\"639-1 codes\"] == lang].tolist()\n",
    "    \n",
    "    # converts the index to int\n",
    "    lang_index = int(lang_index[0])\n",
    "    \n",
    "    # gets the full language name\n",
    "    lang = lang_codes[\"ISO language name\"][lang_index]\n",
    "    \n",
    "    # adds the langauge to list\n",
    "    language.append(lang)"
   ]
  },
  {
   "cell_type": "code",
   "execution_count": 9,
   "metadata": {},
   "outputs": [],
   "source": [
    "data[\"language\"] = language"
   ]
  },
  {
   "cell_type": "code",
   "execution_count": 10,
   "metadata": {},
   "outputs": [
    {
     "data": {
      "text/html": [
       "<div>\n",
       "<style scoped>\n",
       "    .dataframe tbody tr th:only-of-type {\n",
       "        vertical-align: middle;\n",
       "    }\n",
       "\n",
       "    .dataframe tbody tr th {\n",
       "        vertical-align: top;\n",
       "    }\n",
       "\n",
       "    .dataframe thead th {\n",
       "        text-align: right;\n",
       "    }\n",
       "</style>\n",
       "<table border=\"1\" class=\"dataframe\">\n",
       "  <thead>\n",
       "    <tr style=\"text-align: right;\">\n",
       "      <th></th>\n",
       "      <th>remark</th>\n",
       "      <th>language</th>\n",
       "    </tr>\n",
       "  </thead>\n",
       "  <tbody>\n",
       "    <tr>\n",
       "      <th>0</th>\n",
       "      <td>byr arisan januari</td>\n",
       "      <td>Indonesian</td>\n",
       "    </tr>\n",
       "    <tr>\n",
       "      <th>1</th>\n",
       "      <td>arisan barang</td>\n",
       "      <td>Tagalog</td>\n",
       "    </tr>\n",
       "    <tr>\n",
       "      <th>2</th>\n",
       "      <td>etoll cfhro</td>\n",
       "      <td>Italian</td>\n",
       "    </tr>\n",
       "    <tr>\n",
       "      <th>3</th>\n",
       "      <td>belanja muse 12mar</td>\n",
       "      <td>Indonesian</td>\n",
       "    </tr>\n",
       "    <tr>\n",
       "      <th>4</th>\n",
       "      <td>ruko 2</td>\n",
       "      <td>Croatian</td>\n",
       "    </tr>\n",
       "  </tbody>\n",
       "</table>\n",
       "</div>"
      ],
      "text/plain": [
       "                 remark    language\n",
       "0   byr arisan januari   Indonesian\n",
       "1        arisan barang      Tagalog\n",
       "2          etoll cfhro      Italian\n",
       "3   belanja muse 12mar   Indonesian\n",
       "4               ruko 2     Croatian"
      ]
     },
     "execution_count": 10,
     "metadata": {},
     "output_type": "execute_result"
    }
   ],
   "source": [
    "data.head()"
   ]
  },
  {
   "cell_type": "markdown",
   "metadata": {},
   "source": [
    "## Demographic segmentation using Language"
   ]
  },
  {
   "cell_type": "code",
   "execution_count": 11,
   "metadata": {},
   "outputs": [
    {
     "data": {
      "text/plain": [
       "Indonesian                       3000\n",
       "Tagalog                          1505\n",
       "English                           580\n",
       "Somali                            435\n",
       "Croatian                          360\n",
       "Slovenian                         326\n",
       "Swahili                           301\n",
       "Welsh                             299\n",
       "Finnish                           292\n",
       "Italian                           291\n",
       "Estonian                          259\n",
       "Turkish                           231\n",
       "Catalan, Valencian                210\n",
       "Albanian                          191\n",
       "Norwegian                         171\n",
       "Romanian, Moldavian, Moldovan     169\n",
       "Lithuanian                        150\n",
       "Swedish                           128\n",
       "Afrikaans                         119\n",
       "Spanish, Castilian                110\n",
       "Danish                             96\n",
       "Latvian                            93\n",
       "Slovak                             90\n",
       "Portuguese                         90\n",
       "Dutch, Flemish                     51\n",
       "Hungarian                          44\n",
       "Polish                             43\n",
       "French                             41\n",
       "German                             39\n",
       "Czech                              22\n",
       "Vietnamese                         10\n",
       "Name: language, dtype: int64"
      ]
     },
     "execution_count": 11,
     "metadata": {},
     "output_type": "execute_result"
    }
   ],
   "source": [
    "data[\"language\"].value_counts()"
   ]
  },
  {
   "cell_type": "code",
   "execution_count": 12,
   "metadata": {},
   "outputs": [
    {
     "data": {
      "text/plain": [
       "<AxesSubplot:>"
      ]
     },
     "execution_count": 12,
     "metadata": {},
     "output_type": "execute_result"
    },
    {
     "data": {
      "image/png": "[encoded data removed]",
      "text/plain": [
       "<Figure size 1600x1200 with 1 Axes>"
      ]
     },
     "metadata": {},
     "output_type": "display_data"
    }
   ],
   "source": [
    "plt.figure(figsize=(16,12))\n",
    "data[\"language\"].value_counts(ascending = True).plot(kind='barh')"
   ]
  },
  {
   "cell_type": "markdown",
   "metadata": {},
   "source": [
    "Note: <strong>30.7%</strong> of the transactions are from <strong>Indonesia.</strong>\n",
    "- Tagalog = 15%\n",
    "- English = 5.9%\n",
    "- Somali = 4.4%\n",
    "- Croatian = 3.6%"
   ]
  },
  {
   "cell_type": "markdown",
   "metadata": {
    "tags": []
   },
   "source": [
    "## Text Analysis\n",
    "\n",
    "This will be performed on 1000 randomly selected sample data, to extract insights from the dataset."
   ]
  },
  {
   "cell_type": "code",
   "execution_count": 13,
   "metadata": {},
   "outputs": [],
   "source": [
    "# Generate sample data of 1000 rows\n",
    "s_data = data.sample(1000)"
   ]
  },
  {
   "cell_type": "code",
   "execution_count": 14,
   "metadata": {},
   "outputs": [],
   "source": [
    "# initialize the Google API translator\n",
    "translator = Translator()"
   ]
  },
  {
   "cell_type": "code",
   "execution_count": 15,
   "metadata": {},
   "outputs": [],
   "source": [
    "# list to store english translation\n",
    "translation_list = []\n",
    "\n",
    "# Gets the name of language and translates it to english\n",
    "for item in s_data[\"remark\"]:\n",
    "    # the text to be translated\n",
    "    text = item\n",
    "    \n",
    "    # translate text to english\n",
    "    translation = translator.translate(text)\n",
    "    en_translation = translation.text\n",
    "    \n",
    "    # adds the translated text to list\n",
    "    translation_list.append(en_translation)\n",
    "    \n",
    "# print(f\"{translation.origin} ({translation.src}) --> {translation.text} ({translation.dest})\")"
   ]
  },
  {
   "cell_type": "code",
   "execution_count": 16,
   "metadata": {},
   "outputs": [],
   "source": [
    "# saves the list as column in dataframe\n",
    "s_data[\"en_translation\"] = translation_list"
   ]
  },
  {
   "cell_type": "code",
   "execution_count": 17,
   "metadata": {},
   "outputs": [
    {
     "data": {
      "text/html": [
       "<div>\n",
       "<style scoped>\n",
       "    .dataframe tbody tr th:only-of-type {\n",
       "        vertical-align: middle;\n",
       "    }\n",
       "\n",
       "    .dataframe tbody tr th {\n",
       "        vertical-align: top;\n",
       "    }\n",
       "\n",
       "    .dataframe thead th {\n",
       "        text-align: right;\n",
       "    }\n",
       "</style>\n",
       "<table border=\"1\" class=\"dataframe\">\n",
       "  <thead>\n",
       "    <tr style=\"text-align: right;\">\n",
       "      <th></th>\n",
       "      <th>remark</th>\n",
       "      <th>language</th>\n",
       "      <th>en_translation</th>\n",
       "    </tr>\n",
       "  </thead>\n",
       "  <tbody>\n",
       "    <tr>\n",
       "      <th>4526</th>\n",
       "      <td>jumat berkah</td>\n",
       "      <td>Indonesian</td>\n",
       "      <td>Blessed Friday</td>\n",
       "    </tr>\n",
       "    <tr>\n",
       "      <th>2912</th>\n",
       "      <td>kasbon sms</td>\n",
       "      <td>Latvian</td>\n",
       "      <td>Kasbon SMS</td>\n",
       "    </tr>\n",
       "    <tr>\n",
       "      <th>3280</th>\n",
       "      <td>rmhyatimbahagia</td>\n",
       "      <td>Indonesian</td>\n",
       "      <td>rmhyatimbahagia</td>\n",
       "    </tr>\n",
       "    <tr>\n",
       "      <th>3209</th>\n",
       "      <td>eko byr mobil</td>\n",
       "      <td>Czech</td>\n",
       "      <td>Eko offers mobile</td>\n",
       "    </tr>\n",
       "    <tr>\n",
       "      <th>3972</th>\n",
       "      <td>ccln 2 hp samsung</td>\n",
       "      <td>Tagalog</td>\n",
       "      <td>ccln 2 hp samsung</td>\n",
       "    </tr>\n",
       "  </tbody>\n",
       "</table>\n",
       "</div>"
      ],
      "text/plain": [
       "                   remark    language     en_translation\n",
       "4526        jumat berkah   Indonesian     Blessed Friday\n",
       "2912          kasbon sms      Latvian         Kasbon SMS\n",
       "3280     rmhyatimbahagia   Indonesian    rmhyatimbahagia\n",
       "3209       eko byr mobil        Czech  Eko offers mobile\n",
       "3972   ccln 2 hp samsung      Tagalog  ccln 2 hp samsung"
      ]
     },
     "execution_count": 17,
     "metadata": {},
     "output_type": "execute_result"
    }
   ],
   "source": [
    "s_data.head()"
   ]
  },
  {
   "cell_type": "code",
   "execution_count": 18,
   "metadata": {},
   "outputs": [],
   "source": [
    "s_data.to_csv(\"sample_data.csv\", index=False)"
   ]
  },
  {
   "cell_type": "code",
   "execution_count": 19,
   "metadata": {},
   "outputs": [
    {
     "data": {
      "text/plain": [
       "remark            0\n",
       "language          0\n",
       "en_translation    0\n",
       "dtype: int64"
      ]
     },
     "execution_count": 19,
     "metadata": {},
     "output_type": "execute_result"
    }
   ],
   "source": [
    "# checks for null values\n",
    "s_data.isnull().sum()"
   ]
  },
  {
   "cell_type": "code",
   "execution_count": 20,
   "metadata": {},
   "outputs": [],
   "source": [
    "# stores data into new dataframe and resets index\n",
    "df = s_data.copy()\n",
    "df = df.reset_index(drop=\"index\")"
   ]
  },
  {
   "cell_type": "code",
   "execution_count": 21,
   "metadata": {},
   "outputs": [
    {
     "data": {
      "text/html": [
       "<div>\n",
       "<style scoped>\n",
       "    .dataframe tbody tr th:only-of-type {\n",
       "        vertical-align: middle;\n",
       "    }\n",
       "\n",
       "    .dataframe tbody tr th {\n",
       "        vertical-align: top;\n",
       "    }\n",
       "\n",
       "    .dataframe thead th {\n",
       "        text-align: right;\n",
       "    }\n",
       "</style>\n",
       "<table border=\"1\" class=\"dataframe\">\n",
       "  <thead>\n",
       "    <tr style=\"text-align: right;\">\n",
       "      <th></th>\n",
       "      <th>remark</th>\n",
       "      <th>language</th>\n",
       "      <th>en_translation</th>\n",
       "    </tr>\n",
       "  </thead>\n",
       "  <tbody>\n",
       "    <tr>\n",
       "      <th>0</th>\n",
       "      <td>jumat berkah</td>\n",
       "      <td>Indonesian</td>\n",
       "      <td>Blessed Friday</td>\n",
       "    </tr>\n",
       "    <tr>\n",
       "      <th>1</th>\n",
       "      <td>kasbon sms</td>\n",
       "      <td>Latvian</td>\n",
       "      <td>Kasbon SMS</td>\n",
       "    </tr>\n",
       "    <tr>\n",
       "      <th>2</th>\n",
       "      <td>rmhyatimbahagia</td>\n",
       "      <td>Indonesian</td>\n",
       "      <td>rmhyatimbahagia</td>\n",
       "    </tr>\n",
       "    <tr>\n",
       "      <th>3</th>\n",
       "      <td>eko byr mobil</td>\n",
       "      <td>Czech</td>\n",
       "      <td>Eko offers mobile</td>\n",
       "    </tr>\n",
       "    <tr>\n",
       "      <th>4</th>\n",
       "      <td>ccln 2 hp samsung</td>\n",
       "      <td>Tagalog</td>\n",
       "      <td>ccln 2 hp samsung</td>\n",
       "    </tr>\n",
       "  </tbody>\n",
       "</table>\n",
       "</div>"
      ],
      "text/plain": [
       "                remark    language     en_translation\n",
       "0        jumat berkah   Indonesian     Blessed Friday\n",
       "1          kasbon sms      Latvian         Kasbon SMS\n",
       "2     rmhyatimbahagia   Indonesian    rmhyatimbahagia\n",
       "3       eko byr mobil        Czech  Eko offers mobile\n",
       "4   ccln 2 hp samsung      Tagalog  ccln 2 hp samsung"
      ]
     },
     "execution_count": 21,
     "metadata": {},
     "output_type": "execute_result"
    }
   ],
   "source": [
    "df.head()"
   ]
  },
  {
   "cell_type": "markdown",
   "metadata": {},
   "source": [
    "### Lemmatization"
   ]
  },
  {
   "cell_type": "code",
   "execution_count": 22,
   "metadata": {},
   "outputs": [],
   "source": [
    "from nltk.stem import WordNetLemmatizer\n",
    "lemmatizer = WordNetLemmatizer()"
   ]
  },
  {
   "cell_type": "code",
   "execution_count": 23,
   "metadata": {},
   "outputs": [],
   "source": [
    "# split strings into words and lemmatize them\n",
    "\n",
    "def lem(text):\n",
    "    text = str(text)\n",
    "    text = text.split(\" \")\n",
    "    # create new list to store the lemmatized words\n",
    "    n_text = []\n",
    "    \n",
    "    # loop to lemmatize words\n",
    "    for word in text:\n",
    "        l_word = lemmatizer.lemmatize(word)\n",
    "        n_text.append(l_word)\n",
    "        \n",
    "    # return text\n",
    "    return n_text\n",
    "\n",
    "df['remark'] = df['remark'].apply(lambda x: lem(x))"
   ]
  },
  {
   "cell_type": "code",
   "execution_count": 24,
   "metadata": {},
   "outputs": [
    {
     "data": {
      "text/html": [
       "<div>\n",
       "<style scoped>\n",
       "    .dataframe tbody tr th:only-of-type {\n",
       "        vertical-align: middle;\n",
       "    }\n",
       "\n",
       "    .dataframe tbody tr th {\n",
       "        vertical-align: top;\n",
       "    }\n",
       "\n",
       "    .dataframe thead th {\n",
       "        text-align: right;\n",
       "    }\n",
       "</style>\n",
       "<table border=\"1\" class=\"dataframe\">\n",
       "  <thead>\n",
       "    <tr style=\"text-align: right;\">\n",
       "      <th></th>\n",
       "      <th>remark</th>\n",
       "      <th>language</th>\n",
       "      <th>en_translation</th>\n",
       "    </tr>\n",
       "  </thead>\n",
       "  <tbody>\n",
       "    <tr>\n",
       "      <th>0</th>\n",
       "      <td>[, jumat, berkah, ]</td>\n",
       "      <td>Indonesian</td>\n",
       "      <td>Blessed Friday</td>\n",
       "    </tr>\n",
       "    <tr>\n",
       "      <th>1</th>\n",
       "      <td>[, kasbon, sm, ]</td>\n",
       "      <td>Latvian</td>\n",
       "      <td>Kasbon SMS</td>\n",
       "    </tr>\n",
       "    <tr>\n",
       "      <th>2</th>\n",
       "      <td>[, rmhyatimbahagia, ]</td>\n",
       "      <td>Indonesian</td>\n",
       "      <td>rmhyatimbahagia</td>\n",
       "    </tr>\n",
       "    <tr>\n",
       "      <th>3</th>\n",
       "      <td>[, eko, byr, mobil, ]</td>\n",
       "      <td>Czech</td>\n",
       "      <td>Eko offers mobile</td>\n",
       "    </tr>\n",
       "    <tr>\n",
       "      <th>4</th>\n",
       "      <td>[, ccln, 2, hp, samsung, ]</td>\n",
       "      <td>Tagalog</td>\n",
       "      <td>ccln 2 hp samsung</td>\n",
       "    </tr>\n",
       "  </tbody>\n",
       "</table>\n",
       "</div>"
      ],
      "text/plain": [
       "                       remark    language     en_translation\n",
       "0         [, jumat, berkah, ]  Indonesian     Blessed Friday\n",
       "1            [, kasbon, sm, ]     Latvian         Kasbon SMS\n",
       "2       [, rmhyatimbahagia, ]  Indonesian    rmhyatimbahagia\n",
       "3       [, eko, byr, mobil, ]       Czech  Eko offers mobile\n",
       "4  [, ccln, 2, hp, samsung, ]     Tagalog  ccln 2 hp samsung"
      ]
     },
     "execution_count": 24,
     "metadata": {},
     "output_type": "execute_result"
    }
   ],
   "source": [
    "df.head()"
   ]
  },
  {
   "cell_type": "code",
   "execution_count": 25,
   "metadata": {},
   "outputs": [],
   "source": [
    "#Remove all empty comments\n",
    "empty_comment = [\"\"]\n",
    "\n",
    "for i in range(len(df)):\n",
    "    if df['remark'][i]==empty_comment:\n",
    "        df=df.drop(i)\n",
    "\n",
    "df=df.reset_index(drop=True)"
   ]
  },
  {
   "cell_type": "code",
   "execution_count": 43,
   "metadata": {},
   "outputs": [
    {
     "data": {
      "image/png": "[encoded data removed]",
      "text/plain": [
       "<Figure size 640x480 with 1 Axes>"
      ]
     },
     "metadata": {},
     "output_type": "display_data"
    }
   ],
   "source": [
    "#From lists of comments to a single list containing all words      \n",
    "all_words=[]        \n",
    "for i in range(len(df)):\n",
    "    all_words = all_words + df['remark'][i]\n",
    "\n",
    "#Get word frequency        \n",
    "nlp_words = nltk.FreqDist(all_words)\n",
    "plot1 = nlp_words.plot(10, color='salmon', title='Word Frequency')"
   ]
  },
  {
   "cell_type": "markdown",
   "metadata": {},
   "source": [
    "Graph of the Top 10 used words above"
   ]
  },
  {
   "cell_type": "markdown",
   "metadata": {},
   "source": [
    "### Conclusion"
   ]
  },
  {
   "cell_type": "markdown",
   "metadata": {},
   "source": [
    "Note: From the Analysis above,\n",
    "\n",
    "The top 5 most used words in descending order are:\n",
    "\n",
    "- \"Arisan\"; which is a microfinance rotational savings and credit association in Indonesia.\n",
    "- \"gaji\"; which means wages,\n",
    "- \"bayar\"; which means pay,\n",
    "- \"uang\"; which means money,\n",
    "- \"cicilian\"; which means installment.\n",
    "\n",
    "We can assume majority of the users are saving with Arisan, paying wages, or financing installmental payments."
   ]
  },
  {
   "cell_type": "code",
   "execution_count": null,
   "metadata": {},
   "outputs": [],
   "source": []
  }
 ],
 "metadata": {
  "kernelspec": {
   "display_name": "Python 3 (ipykernel)",
   "language": "python",
   "name": "python3"
  },
  "language_info": {
   "codemirror_mode": {
    "name": "ipython",
    "version": 3
   },
   "file_extension": ".py",
   "mimetype": "text/x-python",
   "name": "python",
   "nbconvert_exporter": "python",
   "pygments_lexer": "ipython3",
   "version": "3.8.5"
  }
 },
 "nbformat": 4,
 "nbformat_minor": 4
}
